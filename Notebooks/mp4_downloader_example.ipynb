{
 "cells": [
  {
   "cell_type": "code",
   "execution_count": 1,
   "metadata": {},
   "outputs": [
    {
     "name": "stdout",
     "output_type": "stream",
     "text": [
      "[youtube] Extracting URL: https://www.youtube.com/watch?v=u5CVsCnxyXg\n",
      "[youtube] u5CVsCnxyXg: Downloading webpage\n",
      "[youtube] u5CVsCnxyXg: Downloading ios player API JSON\n",
      "[youtube] u5CVsCnxyXg: Downloading web creator player API JSON\n",
      "[youtube] u5CVsCnxyXg: Downloading player c9dd45ed\n",
      "[youtube] u5CVsCnxyXg: Downloading m3u8 information\n",
      "[info] u5CVsCnxyXg: Downloading 1 format(s): 18\n",
      "[download] Destination: Saved_Media\\video.mp4\n",
      "[download] 100% of    5.17MiB in 00:00:00 at 12.18MiB/s  \n",
      "[youtube] Extracting URL: https://www.youtube.com/watch?v=u5CVsCnxyXg\n",
      "[youtube] u5CVsCnxyXg: Downloading webpage\n",
      "[youtube] u5CVsCnxyXg: Downloading ios player API JSON\n",
      "[youtube] u5CVsCnxyXg: Downloading web creator player API JSON\n",
      "[youtube] u5CVsCnxyXg: Downloading m3u8 information\n",
      "[info] u5CVsCnxyXg: Downloading 1 format(s): 251\n",
      "[download] Destination: Saved_Media\\audio.webm\n",
      "[download] 100% of    4.01MiB in 00:00:00 at 22.29MiB/s    \n",
      "Video and audio download completed!\n",
      "MoviePy - Writing audio in Saved_Media\\audio.mp3\n"
     ]
    },
    {
     "name": "stderr",
     "output_type": "stream",
     "text": [
      "                                                                     "
     ]
    },
    {
     "name": "stdout",
     "output_type": "stream",
     "text": [
      "MoviePy - Done.\n",
      "Audio conversion to MP3 completed!\n"
     ]
    },
    {
     "name": "stderr",
     "output_type": "stream",
     "text": [
      "\r"
     ]
    }
   ],
   "source": [
    "from mp4_downloader import process_youtube_video\n",
    "\n",
    "# Change the link to the video you want to download\n",
    "process_youtube_video(\"https://www.youtube.com/watch?v=u5CVsCnxyXg\")"
   ]
  }
 ],
 "metadata": {
  "kernelspec": {
   "display_name": "venv",
   "language": "python",
   "name": "python3"
  },
  "language_info": {
   "codemirror_mode": {
    "name": "ipython",
    "version": 3
   },
   "file_extension": ".py",
   "mimetype": "text/x-python",
   "name": "python",
   "nbconvert_exporter": "python",
   "pygments_lexer": "ipython3",
   "version": "3.10.11"
  }
 },
 "nbformat": 4,
 "nbformat_minor": 2
}
