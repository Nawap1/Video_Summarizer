{
 "cells": [
  {
   "cell_type": "code",
   "execution_count": 18,
   "metadata": {},
   "outputs": [
    {
     "name": "stdout",
     "output_type": "stream",
     "text": [
      "[youtube] Extracting URL: https://www.youtube.com/watch?v=y4zdDXPYo0I\n",
      "[youtube] y4zdDXPYo0I: Downloading webpage\n",
      "[youtube] y4zdDXPYo0I: Downloading ios player API JSON\n",
      "[youtube] y4zdDXPYo0I: Downloading web creator player API JSON\n",
      "[youtube] y4zdDXPYo0I: Downloading m3u8 information\n",
      "[info] y4zdDXPYo0I: Downloading 1 format(s): 18\n",
      "[download] Destination: Saved_Media\\downloaded_video.mp4\n",
      "[download] 100% of    4.89MiB in 00:00:00 at 16.57MiB/s  \n",
      "[youtube] Extracting URL: https://www.youtube.com/watch?v=y4zdDXPYo0I\n",
      "[youtube] y4zdDXPYo0I: Downloading webpage\n",
      "[youtube] y4zdDXPYo0I: Downloading ios player API JSON\n",
      "[youtube] y4zdDXPYo0I: Downloading web creator player API JSON\n",
      "[youtube] y4zdDXPYo0I: Downloading m3u8 information\n",
      "[info] y4zdDXPYo0I: Downloading 1 format(s): 251\n",
      "[download] Destination: Saved_Media\\audio.webm\n",
      "[download] 100% of    3.83MiB in 00:00:00 at 14.56MiB/s    \n",
      "Download completed!\n",
      "MoviePy - Writing audio in Saved_Media\\conv_mp3_audio.mp3\n"
     ]
    },
    {
     "name": "stderr",
     "output_type": "stream",
     "text": [
      "                                                                      "
     ]
    },
    {
     "name": "stdout",
     "output_type": "stream",
     "text": [
      "MoviePy - Done.\n",
      "Conversion completed!\n"
     ]
    },
    {
     "name": "stderr",
     "output_type": "stream",
     "text": [
      "\r"
     ]
    }
   ],
   "source": [
    "from mp4_downloader import *\n",
    "\n",
    "# Change the link to the video you want to download\n",
    "main(\"https://www.youtube.com/watch?v=u5CVsCnxyXg\")"
   ]
  },
  {
   "cell_type": "code",
   "execution_count": null,
   "metadata": {},
   "outputs": [],
   "source": []
  }
 ],
 "metadata": {
  "kernelspec": {
   "display_name": "venv",
   "language": "python",
   "name": "python3"
  },
  "language_info": {
   "codemirror_mode": {
    "name": "ipython",
    "version": 3
   },
   "file_extension": ".py",
   "mimetype": "text/x-python",
   "name": "python",
   "nbconvert_exporter": "python",
   "pygments_lexer": "ipython3",
   "version": "3.10.11"
  }
 },
 "nbformat": 4,
 "nbformat_minor": 2
}
